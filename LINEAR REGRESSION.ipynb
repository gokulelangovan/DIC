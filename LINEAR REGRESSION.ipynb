{
 "cells": [
  {
   "cell_type": "code",
   "execution_count": 2,
   "metadata": {},
   "outputs": [
    {
     "name": "stdout",
     "output_type": "stream",
     "text": [
      "Estimated coefficients:\n",
      "m = 6.784767632518978  \n",
      "c = 0.03557792949315499\n"
     ]
    },
    {
     "data": {
      "image/png": "[encoded data removed]",
      "text/plain": [
       "<matplotlib.figure.Figure at 0x21541624a20>"
      ]
     },
     "metadata": {},
     "output_type": "display_data"
    }
   ],
   "source": [
    "import numpy as np \n",
    "import matplotlib.pyplot as plt \n",
    "  \n",
    "def estimate_coef(x, y):  \n",
    "    n = np.size(x) \n",
    "  \n",
    "  \n",
    "    m_x, m_y = np.mean(x), np.mean(y) \n",
    "  \n",
    "   \n",
    "    SS_xy = np.sum(y*x) - n*m_y*m_x \n",
    "    SS_xx = np.sum(x*x) - n*m_x*m_x \n",
    "  \n",
    "   \n",
    "    b_1 = SS_xy / SS_xx \n",
    "    b_0 = m_y - b_1*m_x \n",
    "  \n",
    "    return(b_0, b_1) \n",
    "  \n",
    "def plot_regression_line(x, y, b): \n",
    "    plt.scatter(x, y, color = \"m\", \n",
    "               marker = \"o\", s = 30) \n",
    "  \n",
    " \n",
    "    y_pred = b[0] + b[1]*x \n",
    "  \n",
    "    \n",
    "    plt.plot(x, y_pred, color = \"g\") \n",
    "  \n",
    "  \n",
    "    plt.xlabel('x') \n",
    "    plt.ylabel('y') \n",
    "  \n",
    " \n",
    "    plt.show() \n",
    "  \n",
    "def main(): \n",
    " \n",
    "    x = np.array([509,748,757,818,911,1211,1451,1537,1611,1684,1911,1961,2111,3783]) \n",
    "    y = np.array([24.1,31.85,35,37.22,40,38,60.56,53.5,53,78,75,73,110,133]) \n",
    "  \n",
    "\n",
    "    b = estimate_coef(x, y) \n",
    "    print(\"Estimated coefficients:\\nm = {}  \\nc = {}\".format(b[0], b[1])) \n",
    "  \n",
    "    plot_regression_line(x, y, b) \n",
    "  \n",
    "if __name__ == \"__main__\": \n",
    "    main()"
   ]
  },
  {
   "cell_type": "code",
   "execution_count": null,
   "metadata": {
    "collapsed": true
   },
   "outputs": [],
   "source": []
  }
 ],
 "metadata": {
  "kernelspec": {
   "display_name": "Python 3",
   "language": "python",
   "name": "python3"
  },
  "language_info": {
   "codemirror_mode": {
    "name": "ipython",
    "version": 3
   },
   "file_extension": ".py",
   "mimetype": "text/x-python",
   "name": "python",
   "nbconvert_exporter": "python",
   "pygments_lexer": "ipython3",
   "version": "3.6.1"
  }
 },
 "nbformat": 4,
 "nbformat_minor": 2
}
